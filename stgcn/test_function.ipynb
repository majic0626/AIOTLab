{
 "cells": [
  {
   "cell_type": "code",
   "execution_count": 1,
   "metadata": {},
   "outputs": [],
   "source": [
    "import torch\n",
    "import time"
   ]
  },
  {
   "cell_type": "code",
   "execution_count": 2,
   "metadata": {},
   "outputs": [
    {
     "name": "stdout",
     "output_type": "stream",
     "text": [
      "a size: torch.Size([2, 3]) b size: torch.Size([3, 2])\n"
     ]
    }
   ],
   "source": [
    "a = torch.tensor([[1,2,3],\n",
    "                  [4,5,6]], dtype=torch.float32)\n",
    "\n",
    "b = torch.tensor([[1,1],\n",
    "                  [2,2],\n",
    "                  [3,3]], dtype=torch.float32)\n",
    "\n",
    "print(\"a size:\", a.size(), \"b size:\", b.size())"
   ]
  },
  {
   "cell_type": "code",
   "execution_count": 4,
   "metadata": {},
   "outputs": [
    {
     "name": "stdout",
     "output_type": "stream",
     "text": [
      "a dot b =  tensor([[14., 14.],\n",
      "        [32., 32.]]) size =  torch.Size([2, 2])\n"
     ]
    }
   ],
   "source": [
    "ab = torch.mm(a, b)\n",
    "print(\"a dot b = \", ab, \"size = \", ab.size())"
   ]
  },
  {
   "cell_type": "code",
   "execution_count": 5,
   "metadata": {},
   "outputs": [
    {
     "name": "stdout",
     "output_type": "stream",
     "text": [
      "batch size = 16\n",
      "torch.Size([16, 2, 3])\n",
      "torch.Size([16, 3, 2])\n"
     ]
    }
   ],
   "source": [
    "batch_a = a.repeat(16,1,1)\n",
    "batch_b = b.repeat(16,1,1)\n",
    "\n",
    "print(\"batch size = 16\")\n",
    "print(batch_a.size())\n",
    "print(batch_b.size())"
   ]
  },
  {
   "cell_type": "code",
   "execution_count": 21,
   "metadata": {},
   "outputs": [
    {
     "name": "stdout",
     "output_type": "stream",
     "text": [
      "torch.Size([16, 2, 2])\n"
     ]
    },
    {
     "data": {
      "text/plain": [
       "tensor([[[14., 14.],\n",
       "         [32., 32.]],\n",
       "\n",
       "        [[14., 14.],\n",
       "         [32., 32.]],\n",
       "\n",
       "        [[14., 14.],\n",
       "         [32., 32.]],\n",
       "\n",
       "        [[14., 14.],\n",
       "         [32., 32.]],\n",
       "\n",
       "        [[14., 14.],\n",
       "         [32., 32.]],\n",
       "\n",
       "        [[14., 14.],\n",
       "         [32., 32.]],\n",
       "\n",
       "        [[14., 14.],\n",
       "         [32., 32.]],\n",
       "\n",
       "        [[14., 14.],\n",
       "         [32., 32.]],\n",
       "\n",
       "        [[14., 14.],\n",
       "         [32., 32.]],\n",
       "\n",
       "        [[14., 14.],\n",
       "         [32., 32.]]])"
      ]
     },
     "execution_count": 21,
     "metadata": {},
     "output_type": "execute_result"
    }
   ],
   "source": [
    "dot_ans = torch.bmm(batch_a, batch_b)\n",
    "print(dot_ans.size())\n",
    "dot_ans[:10]"
   ]
  },
  {
   "cell_type": "code",
   "execution_count": 12,
   "metadata": {
    "scrolled": true
   },
   "outputs": [
    {
     "data": {
      "text/plain": [
       "tensor([[1., 2., 3.],\n",
       "        [4., 5., 6.],\n",
       "        [1., 2., 3.],\n",
       "        [4., 5., 6.],\n",
       "        [1., 2., 3.],\n",
       "        [4., 5., 6.],\n",
       "        [1., 2., 3.],\n",
       "        [4., 5., 6.]])"
      ]
     },
     "execution_count": 12,
     "metadata": {},
     "output_type": "execute_result"
    }
   ],
   "source": [
    "flat_a = batch_a.view(32, 3)\n",
    "flat_a[:8]"
   ]
  },
  {
   "cell_type": "code",
   "execution_count": 17,
   "metadata": {},
   "outputs": [
    {
     "data": {
      "text/plain": [
       "tensor([[1., 1., 2., 2., 3., 3., 1., 1., 2., 2., 3., 3., 1., 1., 2., 2., 3., 3.,\n",
       "         1., 1., 2., 2., 3., 3., 1., 1., 2., 2., 3., 3., 1., 1.],\n",
       "        [2., 2., 3., 3., 1., 1., 2., 2., 3., 3., 1., 1., 2., 2., 3., 3., 1., 1.,\n",
       "         2., 2., 3., 3., 1., 1., 2., 2., 3., 3., 1., 1., 2., 2.],\n",
       "        [3., 3., 1., 1., 2., 2., 3., 3., 1., 1., 2., 2., 3., 3., 1., 1., 2., 2.,\n",
       "         3., 3., 1., 1., 2., 2., 3., 3., 1., 1., 2., 2., 3., 3.]])"
      ]
     },
     "execution_count": 17,
     "metadata": {},
     "output_type": "execute_result"
    }
   ],
   "source": [
    "flat_b = batch_b.view(3, 32)\n",
    "flat_b[:8]"
   ]
  },
  {
   "cell_type": "code",
   "execution_count": 19,
   "metadata": {},
   "outputs": [
    {
     "data": {
      "text/plain": [
       "tensor([[14., 14.],\n",
       "        [11., 11.],\n",
       "        [11., 11.],\n",
       "        [14., 14.],\n",
       "        [11., 11.],\n",
       "        [11., 11.],\n",
       "        [14., 14.],\n",
       "        [11., 11.],\n",
       "        [11., 11.],\n",
       "        [14., 14.]])"
      ]
     },
     "execution_count": 19,
     "metadata": {},
     "output_type": "execute_result"
    }
   ],
   "source": [
    "dot_ab = torch.mm(flat_a, flat_b)\n",
    "dot_ab.view(512,2)[:10]"
   ]
  },
  {
   "cell_type": "code",
   "execution_count": 15,
   "metadata": {},
   "outputs": [
    {
     "name": "stdout",
     "output_type": "stream",
     "text": [
      "torch.Size([16, 2, 2])\n"
     ]
    }
   ],
   "source": [
    "ans = []\n",
    "for i in range(16):\n",
    "    ans.append(torch.mm(batch_a[i], batch_b[i]))\n",
    "\n",
    "ans = torch.stack(ans)\n",
    "print(ans.size())"
   ]
  },
  {
   "cell_type": "code",
   "execution_count": null,
   "metadata": {},
   "outputs": [],
   "source": []
  },
  {
   "cell_type": "code",
   "execution_count": null,
   "metadata": {},
   "outputs": [],
   "source": []
  },
  {
   "cell_type": "code",
   "execution_count": 6,
   "metadata": {},
   "outputs": [
    {
     "ename": "RuntimeError",
     "evalue": "matrices expected, got 3D, 3D tensors at /pytorch/aten/src/TH/generic/THTensorMath.cpp:747",
     "output_type": "error",
     "traceback": [
      "\u001b[0;31m---------------------------------------------------------------------------\u001b[0m",
      "\u001b[0;31mRuntimeError\u001b[0m                              Traceback (most recent call last)",
      "\u001b[0;32m<ipython-input-6-cec432257db9>\u001b[0m in \u001b[0;36m<module>\u001b[0;34m\u001b[0m\n\u001b[0;32m----> 1\u001b[0;31m \u001b[0mbatch_ab\u001b[0m \u001b[0;34m=\u001b[0m \u001b[0mtorch\u001b[0m\u001b[0;34m.\u001b[0m\u001b[0mmm\u001b[0m\u001b[0;34m(\u001b[0m\u001b[0mbatch_a\u001b[0m\u001b[0;34m,\u001b[0m \u001b[0mbatch_b\u001b[0m\u001b[0;34m)\u001b[0m\u001b[0;34m\u001b[0m\u001b[0m\n\u001b[0m",
      "\u001b[0;31mRuntimeError\u001b[0m: matrices expected, got 3D, 3D tensors at /pytorch/aten/src/TH/generic/THTensorMath.cpp:747"
     ]
    }
   ],
   "source": [
    "batch_ab = torch.mm(batch_a, batch_b)"
   ]
  },
  {
   "cell_type": "code",
   "execution_count": 1,
   "metadata": {},
   "outputs": [
    {
     "data": {
      "text/plain": [
       "torch.Size([16, 32, 25, 9])"
      ]
     },
     "execution_count": 1,
     "metadata": {},
     "output_type": "execute_result"
    }
   ],
   "source": [
    "import torch\n",
    "\n",
    "a = torch.zeros([16, 32, 3, 25, 9], dtype=torch.float32)\n",
    "#b = torch.zeros([16, 32, 3, 25, 9], dtype=torch.float32)\n",
    "\n",
    "sunm_a = torch.sum(a, dim=2)\n",
    "sunm_a.size()\n"
   ]
  },
  {
   "cell_type": "code",
   "execution_count": null,
   "metadata": {},
   "outputs": [],
   "source": []
  }
 ],
 "metadata": {
  "kernelspec": {
   "display_name": "Python 3",
   "language": "python",
   "name": "python3"
  },
  "language_info": {
   "codemirror_mode": {
    "name": "ipython",
    "version": 3
   },
   "file_extension": ".py",
   "mimetype": "text/x-python",
   "name": "python",
   "nbconvert_exporter": "python",
   "pygments_lexer": "ipython3",
   "version": "3.5.2"
  }
 },
 "nbformat": 4,
 "nbformat_minor": 2
}
